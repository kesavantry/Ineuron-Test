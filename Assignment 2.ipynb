{
 "cells": [
  {
   "cell_type": "code",
   "execution_count": null,
   "metadata": {},
   "outputs": [],
   "source": [
    "#Q1: Create the below pattern using nested for loop in Python.\n",
    "# *"
   ]
  },
  {
   "cell_type": "code",
   "execution_count": 5,
   "metadata": {},
   "outputs": [
    {
     "name": "stdout",
     "output_type": "stream",
     "text": [
      "* \r\n",
      "* * \r\n",
      "* * * \r\n",
      "* * * * \r\n",
      "* * * * * \r\n",
      "* * * * * * \r\n",
      "* * * * * \r\n",
      "* * * * \r\n",
      "* * * \r\n",
      "* * \r\n",
      "* \r\n",
      "\r\n"
     ]
    }
   ],
   "source": [
    "#max row that needs to be printed (center part of the pattern)\n",
    "var_rows =6\n",
    "#first five lines of the pattern\n",
    "increment_row = range(0,var_rows)\n",
    "#last\n",
    "decrement_row =  range(var_rows,0,-1)\n",
    "\n",
    "for i in increment_row:\n",
    "    for j in range(0,i+1):\n",
    "        print(\"*\",end = ' ') # end parameter is used to print the loop value in the same line instead of new line\n",
    "    print(\"\\r\")\n",
    "    \n",
    "for i in decrement_row:\n",
    "    for j in range(0,i-1):\n",
    "        print(\"*\",end = ' ') # end parameter is used to print the loop value in the same line instead of new line\n",
    "    print(\"\\r\")"
   ]
  },
  {
   "cell_type": "code",
   "execution_count": null,
   "metadata": {},
   "outputs": [],
   "source": [
    "#Q2\n",
    "#Write a Python program to reverse a word after accepting the input from the user.\n",
    "#Input:ineuron"
   ]
  },
  {
   "cell_type": "code",
   "execution_count": 6,
   "metadata": {},
   "outputs": [
    {
     "name": "stdout",
     "output_type": "stream",
     "text": [
      "Enter a word to reverse : ineuron\n",
      "norueni\n"
     ]
    }
   ],
   "source": [
    "ip =input(\"Enter a word to reverse : \")\n",
    "print(ip[::-1])"
   ]
  },
  {
   "cell_type": "code",
   "execution_count": null,
   "metadata": {},
   "outputs": [],
   "source": []
  },
  {
   "cell_type": "code",
   "execution_count": null,
   "metadata": {},
   "outputs": [],
   "source": []
  }
 ],
 "metadata": {
  "kernelspec": {
   "display_name": "Python 3",
   "language": "python",
   "name": "python3"
  },
  "language_info": {
   "codemirror_mode": {
    "name": "ipython",
    "version": 3
   },
   "file_extension": ".py",
   "mimetype": "text/x-python",
   "name": "python",
   "nbconvert_exporter": "python",
   "pygments_lexer": "ipython3",
   "version": "3.8.5"
  }
 },
 "nbformat": 4,
 "nbformat_minor": 4
}
